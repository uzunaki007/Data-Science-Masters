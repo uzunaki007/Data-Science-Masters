{
 "cells": [
  {
   "cell_type": "markdown",
   "id": "329e0678-6e5f-4321-bed6-f30b4702b9d2",
   "metadata": {},
   "source": [
    "tuple,list and dictionary assignment"
   ]
  },
  {
   "cell_type": "code",
   "execution_count": 3,
   "id": "65ed5f62-f5bf-4612-928c-215c43ef851e",
   "metadata": {},
   "outputs": [],
   "source": [
    "#Q1. What are the characteristics of the tuples? Is tuple immutable?\n",
    "#ans1.(part 1)\n",
    "#the characteristics of tuples are as follows-\n",
    "#(a).it can store any data type\n",
    "#(b).index() and count() are the only 2 methods present for tuples\n",
    "#(c).indexing is present in tuples also just like it's present in case of list\n",
    "#(d). it's a hashable data type unlike list\n",
    "#(part 2)\n",
    "#yes tuple is immutable unlike list '''\n"
   ]
  },
  {
   "cell_type": "code",
   "execution_count": null,
   "id": "3208feb5-b997-4821-ab69-15458dfd6966",
   "metadata": {},
   "outputs": [],
   "source": [
    "#Q2. What are the two tuple methods in python? Give an example of each method. Give a reason why\n",
    "#tuples have only two in-built methods as compared to Lists.\n",
    "#ans2. (part1)\n",
    "#the 2 tuple methods in python or 2 build in functions in python for tuple are index() and count()\n",
    "#(part3)\n",
    "#as tuple is an immutable datatype so we can not update tuple in any way, thats why the build in functions which are\n",
    "#present in case of list for updating it can not be used in case tuples which leaves us with only 2 methods left that\n",
    "#are .index() and .count()"
   ]
  },
  {
   "cell_type": "code",
   "execution_count": 5,
   "id": "67106348-e526-4097-8e2f-305740f4ef1b",
   "metadata": {},
   "outputs": [
    {
     "data": {
      "text/plain": [
       "2"
      ]
     },
     "execution_count": 5,
     "metadata": {},
     "output_type": "execute_result"
    }
   ],
   "source": [
    "##ans2\n",
    "##part2\n",
    "##index()\n",
    "tup_1=(2,134,7,891,84,69012,7,8,9,0,\"abcd\",(12,34,4),[\"name\",19.99])\n",
    "tup_1.index(7)   ## will provide you the index of the 1st occurance of this given element 7"
   ]
  },
  {
   "cell_type": "code",
   "execution_count": 6,
   "id": "e7aa73c6-17d4-4174-add9-02e7645366ce",
   "metadata": {},
   "outputs": [
    {
     "data": {
      "text/plain": [
       "2"
      ]
     },
     "execution_count": 6,
     "metadata": {},
     "output_type": "execute_result"
    }
   ],
   "source": [
    "##ans2\n",
    "##part2\n",
    "##count()\n",
    "tup_1=(2,134,7,891,84,69012,7,8,9,0,\"abcd\",(12,34,4),[\"name\",19.99])\n",
    "tup_1.count(7)  ##tells us about the number of occurance of a specific element in the give tuple"
   ]
  },
  {
   "cell_type": "code",
   "execution_count": null,
   "id": "b73d93c0-84e0-460f-bfda-290251d1128e",
   "metadata": {},
   "outputs": [],
   "source": [
    "#Q3. Which collection datatypes in python do not allow duplicate items? Write a code using a set to remove\n",
    "#duplicates from the given list.\n",
    "#List = [1, 1, 1, 2, 1, 3, 1, 4, 2, 1, 2, 2, 2, 3, 2, 4, 3, 1, 3, 2, 3, 3, 3, 4, 4, 1, 4, 2, 4, 3, 4, 4]\n",
    "\n",
    "#ans3. (part1)\n",
    "#set is the datatype in python which does'nt allow duplicate items"
   ]
  },
  {
   "cell_type": "code",
   "execution_count": 8,
   "id": "d972308f-8d0c-43ef-afb0-bb43e39968ae",
   "metadata": {},
   "outputs": [
    {
     "data": {
      "text/plain": [
       "[1, 2, 3, 4]"
      ]
     },
     "execution_count": 8,
     "metadata": {},
     "output_type": "execute_result"
    }
   ],
   "source": [
    "##ans3\n",
    "##part2\n",
    "List = [1, 1, 1, 2, 1, 3, 1, 4, 2, 1, 2, 2, 2, 3, 2, 4, 3, 1, 3, 2, 3, 3, 3, 4, 4, 1, 4, 2, 4, 3, 4, 4]\n",
    "list_1=list(set(List)) ##removal of the duplicate elements\n",
    "list_1"
   ]
  },
  {
   "cell_type": "code",
   "execution_count": null,
   "id": "98109cd2-a226-44b5-8d03-adf66176b7ba",
   "metadata": {},
   "outputs": [],
   "source": [
    "#Q4. Explain the difference between the union() and update() methods for a set. Give an example of each method.\n",
    "\n",
    "#ans4 (part1)\n",
    "#both union() and update() methods for set takes itterable datatypes and updates the specified set but the only\n",
    "#difference between them is that update() can update the specified set without changing it's address, where as \n",
    "#union() can update the specified set only by changing its address(that's by assigning a variable to it)"
   ]
  },
  {
   "cell_type": "code",
   "execution_count": 26,
   "id": "ca4afe43-8264-479f-b60e-e462a6cd7c3b",
   "metadata": {},
   "outputs": [
    {
     "name": "stdout",
     "output_type": "stream",
     "text": [
      "140472402813984 is the id of set_1 before update()\n",
      "140472402816224 is the id of set_3 before union()\n",
      "set_1: {'name', 'abcd', 2, 3, 1, 4, 5, 6, 7, 8, 9, 10}\n",
      "set_4: {'name', 'abcd', 2, 3, 1, 4, 5, 6, 7, 8, 9, 10}\n",
      "set_3: {'name', 'abcd', 2, 3, 1, 4, 5, 6, 7, 8}\n",
      "id of set_1 after update():140472402813984\n",
      "id of set_4 =set_3.union(set_2):140472402817120\n"
     ]
    }
   ],
   "source": [
    "##ans\n",
    "##part2\n",
    "set_1={\"abcd\",\"name\",1,2,3,4,5,6,7,8}\n",
    "set_2={1,2,3,4,8,9,10}\n",
    "print(\"{} is the id of set_1 before update()\".format(id(set_1)))\n",
    "set_3=set_1.copy()\n",
    "print(\"{} is the id of set_3 before union()\".format(id(set_3)))\n",
    "set_1.update(set_2) ##update() is updating set_1 without changing it's id or address\n",
    "set_4=set_3.union(set_2)##union() is updating set_3 by changing it's id or address that's by assigning a variable to it\n",
    "print(\"set_1:\",set_1)\n",
    "print(\"set_4:\",set_4)\n",
    "print(\"set_3:\",set_3)\n",
    "print(\"id of set_1 after update():{}\".format(id(set_1)))\n",
    "print(\"id of set_4 =set_3.union(set_2):{}\".format(id(set_4)))\n",
    "\n"
   ]
  },
  {
   "cell_type": "code",
   "execution_count": null,
   "id": "ae0ad750-50c1-4c46-9fff-c2921243b3b1",
   "metadata": {},
   "outputs": [],
   "source": [
    "#Q5. What is a dictionary? Give an example. Also, state whether a dictionary is ordered or unordered.\n",
    "\n",
    "#ans5. (part1)\n",
    "#dictionary is a datatype which contains elements in key value format. The key has to be hashable datatype\n",
    "#and it should not be repeated. The value can be of any datatype and it can be reapeted.\n",
    "#Dictionary is also mutable\n",
    "#(part3)\n",
    "#dictionary is ordered"
   ]
  },
  {
   "cell_type": "code",
   "execution_count": 27,
   "id": "9539f938-d3f4-457e-bc37-4430ef6a207f",
   "metadata": {},
   "outputs": [
    {
     "data": {
      "text/plain": [
       "{'name': 'sitanshu', 'name_1': 'sitanshu'}"
      ]
     },
     "execution_count": 27,
     "metadata": {},
     "output_type": "execute_result"
    }
   ],
   "source": [
    "##ans5\n",
    "##part2\n",
    "dic_1={\"name\":\"sitanshu\",\"name_1\":\"sitanshu\"}\n",
    "dic_1"
   ]
  },
  {
   "cell_type": "code",
   "execution_count": null,
   "id": "24eb9ad4-7316-4ba8-9af1-33e37ccc6e01",
   "metadata": {},
   "outputs": [],
   "source": [
    "#Q6. Can we create a nested dictionary? If so, please give an example by creating a simple one-level\n",
    "#nested dictionary.\n",
    "\n",
    "#ans6. (part1)\n",
    "yes we can create a nested dictionary"
   ]
  },
  {
   "cell_type": "code",
   "execution_count": 1,
   "id": "49ac13e3-5ea8-4cad-9067-e155436b39b6",
   "metadata": {},
   "outputs": [
    {
     "data": {
      "text/plain": [
       "{2: 4,\n",
       " 4: 16,\n",
       " 6: 36,\n",
       " 8: 64,\n",
       " 10: 100,\n",
       " 12: 144,\n",
       " 14: 196,\n",
       " 16: 256,\n",
       " 18: 324,\n",
       " 20: 400}"
      ]
     },
     "execution_count": 1,
     "metadata": {},
     "output_type": "execute_result"
    }
   ],
   "source": [
    "##ans6\n",
    "##part6\n",
    "dic_2={i:i**2 for i in range(1,21) if i%2==0}\n",
    "dic_2"
   ]
  },
  {
   "cell_type": "raw",
   "id": "642e4fbc-2fa4-4e2e-82b3-61b0d7e9b21a",
   "metadata": {},
   "source": [
    "Q7. Using setdefault() method, create key named topics in the given dictionary and also add the value of\n",
    "the key as this list ['Python', 'Machine Learning’, 'Deep Learning']\n",
    "dict1 = {'language' : 'Python', 'course': 'Data Science Masters'}"
   ]
  },
  {
   "cell_type": "code",
   "execution_count": 3,
   "id": "aaedc12f-7517-4a65-b25d-0de19ac15ae4",
   "metadata": {},
   "outputs": [
    {
     "data": {
      "text/plain": [
       "{'language': 'Python',\n",
       " 'course': 'Data Science Masters',\n",
       " 'topics': ['Python', 'Machine Learning', 'Deep Learning']}"
      ]
     },
     "execution_count": 3,
     "metadata": {},
     "output_type": "execute_result"
    }
   ],
   "source": [
    "##ans7\n",
    "dict1 = {'language' : 'Python', 'course': 'Data Science Masters'}\n",
    "dict1.setdefault(\"topics\",[\"Python\",\"Machine Learning\",\"Deep Learning\"])\n",
    "dict1"
   ]
  },
  {
   "cell_type": "raw",
   "id": "97644149-beae-4d55-b09a-829ee395df20",
   "metadata": {},
   "source": [
    "Q8. What are the three view objects in dictionaries? Use the three in-built methods in python to display\n",
    "these three view objects for the given dictionary.\n",
    "dict1 = {'Sport': 'Cricket' , 'Teams': ['India', 'Australia', 'England', 'South Africa', 'Sri Lanka', 'New Zealand']}\n",
    "\n",
    "ans8. (part1)\n",
    "the 3 view objects in dictionaries are key, values and items"
   ]
  },
  {
   "cell_type": "code",
   "execution_count": 4,
   "id": "a47e2a10-8e6d-4c1c-922e-b4180d911522",
   "metadata": {},
   "outputs": [
    {
     "name": "stdout",
     "output_type": "stream",
     "text": [
      "keys:dict_keys(['Sport', 'Teams'])\n",
      "values:dict_values(['Cricket', ['India', 'Australia', 'England', 'South Africa', 'Sri Lanka', 'New Zealand']])\n",
      "items:dict_items([('Sport', 'Cricket'), ('Teams', ['India', 'Australia', 'England', 'South Africa', 'Sri Lanka', 'New Zealand'])])\n"
     ]
    }
   ],
   "source": [
    "##ans8\n",
    "##part2\n",
    "##three in-built methods in python to display these three view objects for the given dictionary.\n",
    "dict1 = {'Sport': 'Cricket' , 'Teams': ['India', 'Australia', 'England', 'South Africa', 'Sri Lanka', 'New Zealand']}\n",
    "print(\"keys:{}\".format(dict1.keys()))\n",
    "print(\"values:{}\".format(dict1.values()))\n",
    "print(\"items:{}\".format(dict1.items()))"
   ]
  },
  {
   "cell_type": "code",
   "execution_count": null,
   "id": "53f7a0fb-72f6-4c14-a537-a941c77de1d5",
   "metadata": {},
   "outputs": [],
   "source": []
  }
 ],
 "metadata": {
  "kernelspec": {
   "display_name": "Python 3 (ipykernel)",
   "language": "python",
   "name": "python3"
  },
  "language_info": {
   "codemirror_mode": {
    "name": "ipython",
    "version": 3
   },
   "file_extension": ".py",
   "mimetype": "text/x-python",
   "name": "python",
   "nbconvert_exporter": "python",
   "pygments_lexer": "ipython3",
   "version": "3.10.8"
  }
 },
 "nbformat": 4,
 "nbformat_minor": 5
}
