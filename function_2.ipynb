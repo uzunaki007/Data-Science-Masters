{
 "cells": [
  {
   "cell_type": "code",
   "execution_count": 2,
   "id": "56cb1244-7a0a-4cfe-8fff-03459b53ef80",
   "metadata": {},
   "outputs": [
    {
     "name": "stdout",
     "output_type": "stream",
     "text": [
      "The sorted list based on ineger values is [('Virat Kohli', 24936), ('Jack Kallis', 25534), ('Ricky Ponting', 27483), ('Sachin Tendulkar', 34357)]\n"
     ]
    }
   ],
   "source": [
    "#  Q1. Create a python program to sort the given list of tuples based on integer value using a\n",
    "#  lambda function.\n",
    "#  ('Sachin Tendulkar', 34357), ('Ricky Ponting', 27483), ('Jack Kallis', 25534), ('Virat Kohli', 24936)]\n",
    "#  ans1.\n",
    "n=[('Sachin Tendulkar', 34357), ('Ricky Ponting', 27483), ('Jack Kallis', 25534), ('Virat Kohli', 24936)]\n",
    "n.sort(key=lambda x:x[1])\n",
    "print(\"The sorted list based on ineger values is {srt_lst}\".format(srt_lst=n))"
   ]
  },
  {
   "cell_type": "code",
   "execution_count": 8,
   "id": "baf4e249-98d9-443e-9507-0f53dd15020c",
   "metadata": {},
   "outputs": [
    {
     "name": "stdout",
     "output_type": "stream",
     "text": [
      "list of square of elements of [1, 2, 3, 4, 5, 6, 7, 8, 9, 10] is [1, 4, 9, 16, 25, 36, 49, 64, 81, 100]\n"
     ]
    }
   ],
   "source": [
    "#  Q2. Write a Python Program to find the squares of all the numbers in the given list of integers using\n",
    "#  lambda and map functions.\n",
    "#  [1, 2, 3, 4, 5, 6, 7, 8, 9, 10]\n",
    "#  ans2.\n",
    "i=[1, 2, 3, 4, 5, 6, 7, 8, 9, 10]\n",
    "a=list(map(lambda x:x**2,i)) #  creating a function which gives the square of all the elements of given list\n",
    "print(\"list of square of elements of {} is {}\".format(i,a))"
   ]
  },
  {
   "cell_type": "code",
   "execution_count": 10,
   "id": "a76ba6a5-ee24-479a-a69b-e5fb84780bd7",
   "metadata": {},
   "outputs": [
    {
     "name": "stdout",
     "output_type": "stream",
     "text": [
      "The list [1, 2, 3, 4, 5, 6, 7, 8, 9, 10] got converted to a tuple of list: ('1', '2', '3', '4', '5', '6', '7', '8', '9', '10')\n"
     ]
    }
   ],
   "source": [
    "#  Q3. Write a python program to convert the given list of integers into a tuple of strings. Use map and\n",
    "#  lambda functions\n",
    "#  Given String: [1, 2, 3, 4, 5, 6, 7, 8, 9, 10]\n",
    "#  Expected output: ('1', '2', '3', '4', '5', '6', '7', '8', '9', '10')\n",
    "#  ans3.\n",
    "b=[1, 2, 3, 4, 5, 6, 7, 8, 9, 10]\n",
    "n=tuple(map(lambda x:str(x),b)) #  creating a function which will give a tuple of strings from a given list\n",
    "print(\"The list {} got converted to a tuple of list: {}\".format(b,n))"
   ]
  },
  {
   "cell_type": "code",
   "execution_count": 18,
   "id": "4ac2bba1-3ec2-419e-a38c-51d44ed7a2fa",
   "metadata": {},
   "outputs": [
    {
     "name": "stdout",
     "output_type": "stream",
     "text": [
      "The product of elements of [1, 2, 3, 4, 5, 6, 7, 8, 9, 10, 11, 12, 13, 14, 15, 16, 17, 18, 19, 20, 21, 22, 23, 24, 25] is 15511210043330985984000000\n"
     ]
    }
   ],
   "source": [
    "#  Q4. Write a python program using reduce function to compute the product of a list containing numbers\n",
    "#  from 1 to 25.\n",
    "#  ans4.\n",
    "from functools import reduce\n",
    "i1=[1,2,3,4,5,6,7,8,9,10,11,12,13,14,15,16,17,18,19,20,21,22,23,24,25]\n",
    "a1=reduce(lambda x,y:x*y,i1) #creating a function which will give the product of the elements of the given list\n",
    "print(\"The product of elements of {} is {}\".format(i1,a1))"
   ]
  },
  {
   "cell_type": "code",
   "execution_count": 21,
   "id": "ac8c53ca-2e9d-4b2c-a688-56768f464cf7",
   "metadata": {},
   "outputs": [
    {
     "name": "stdout",
     "output_type": "stream",
     "text": [
      "The numbers in [2, 3, 6, 9, 27, 60, 90, 120, 55, 46] which are divisible by 2 and 3 are [6, 60, 90, 120]\n"
     ]
    }
   ],
   "source": [
    "#  Q5. Write a python program to filter the numbers in a given list that are divisible by 2 and 3 using the\n",
    "#  filter function.\n",
    "#  [2, 3, 6, 9, 27, 60, 90, 120, 55, 46]\n",
    "#  ans5.\n",
    "b1=[2, 3, 6, 9, 27, 60, 90, 120, 55, 46]\n",
    "n1=list(filter(lambda x:x%2==0 and x%3==0,b1))\n",
    "print(\"The numbers in {giv_lst} which are divisible by 2 and 3 are {outpt}\".format(giv_lst=b1,outpt=n1))"
   ]
  },
  {
   "cell_type": "code",
   "execution_count": 35,
   "id": "c5a1ed55-90f7-40e0-a828-5890e59ef1d1",
   "metadata": {},
   "outputs": [
    {
     "name": "stdout",
     "output_type": "stream",
     "text": [
      "The palindromes in ['python', 'php', 'aba', 'radar', 'level'] are ['php', 'aba', 'radar', 'level']\n"
     ]
    }
   ],
   "source": [
    "#  Q6. Write a python program to find palindromes in the given list of strings using lambda and filter\n",
    "#  function.\n",
    "#  ['python', 'php', 'aba', 'radar', 'level']\n",
    "#  ans6.\n",
    "y1=['python', 'php', 'aba', 'radar', 'level']\n",
    "y2=list(filter(lambda x:list(reversed(list(x)))==list(x),y1)) #creating a function which gives palindromes from given list\n",
    "print(\"The palindromes in {giv_lst} are {pal_lst}\".format(giv_lst=y1,pal_lst=y2))"
   ]
  },
  {
   "cell_type": "code",
   "execution_count": null,
   "id": "c3a57574-465b-464a-b0fa-13dd8c93582f",
   "metadata": {},
   "outputs": [],
   "source": []
  }
 ],
 "metadata": {
  "kernelspec": {
   "display_name": "Python 3 (ipykernel)",
   "language": "python",
   "name": "python3"
  },
  "language_info": {
   "codemirror_mode": {
    "name": "ipython",
    "version": 3
   },
   "file_extension": ".py",
   "mimetype": "text/x-python",
   "name": "python",
   "nbconvert_exporter": "python",
   "pygments_lexer": "ipython3",
   "version": "3.10.8"
  }
 },
 "nbformat": 4,
 "nbformat_minor": 5
}
