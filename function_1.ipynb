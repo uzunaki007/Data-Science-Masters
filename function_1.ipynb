{
 "cells": [
  {
   "cell_type": "code",
   "execution_count": 1,
   "id": "8d4d805a-6718-4d74-8844-15b761c87d19",
   "metadata": {},
   "outputs": [],
   "source": [
    "#  Q1. Which keyword is used to create a function? Create a function to return a list of odd numbers in the \n",
    "#  range of 1 to 25.\n",
    "#  ans1. (part1)\n",
    "#        def keyword is used to create a function."
   ]
  },
  {
   "cell_type": "code",
   "execution_count": 11,
   "id": "4859be91-3e50-4888-87dc-aafed8e5b333",
   "metadata": {},
   "outputs": [],
   "source": [
    "#  ans1.\n",
    "# (part2)\n",
    "def odd_num1():\n",
    "    a=[]\n",
    "    for i in range(1,26):\n",
    "        if i%2!=0:\n",
    "            a.append(i)\n",
    "    print(\"The odd numbers in a range of 1 to 25 are: {odd_1}\".format(odd_1=a))"
   ]
  },
  {
   "cell_type": "code",
   "execution_count": 12,
   "id": "41262e23-051a-431c-825b-8abdfc7b92bf",
   "metadata": {},
   "outputs": [
    {
     "name": "stdout",
     "output_type": "stream",
     "text": [
      "The odd numbers in a range of 1 to 25 are: [1, 3, 5, 7, 9, 11, 13, 15, 17, 19, 21, 23, 25]\n"
     ]
    }
   ],
   "source": [
    "odd_num1()"
   ]
  },
  {
   "cell_type": "code",
   "execution_count": 13,
   "id": "1700a301-a14b-4b31-8a34-ad548904b9f7",
   "metadata": {},
   "outputs": [],
   "source": [
    "#  Q2. Why *args and **kwargs is used in some functions? Create a function each for *args and **kwargs to\n",
    "#  demonstrate their use.\n",
    "#  ans2. (part1)\n",
    "#        *args= is written in the position of the arguments name in a function, so that we can assign or input\n",
    "#         uncontable or multiple number of values to the fuction.\n",
    "#        **kwargs= is written in the position of the arguments name in a function, so that we an assign or input\n",
    "#         uncountable or multiple items, i.e. values in the key-value format"
   ]
  },
  {
   "cell_type": "code",
   "execution_count": 17,
   "id": "3ebda927-de3b-4120-9381-f4de1d5f4670",
   "metadata": {},
   "outputs": [],
   "source": [
    "#  ans2\n",
    "#  (part2)\n",
    "def fun_1(*args): # used *args\n",
    "    a=[]\n",
    "    for i in args:\n",
    "        if type(i)==int:\n",
    "            a.append(i)\n",
    "    print(\"The integers given are:{int_1}\".format(int_1=a))"
   ]
  },
  {
   "cell_type": "code",
   "execution_count": 18,
   "id": "47fcd2bc-a4d7-4631-8be9-2a6e8d9aa9f8",
   "metadata": {},
   "outputs": [
    {
     "name": "stdout",
     "output_type": "stream",
     "text": [
      "The integers given are:[1, 2, 34, 5, 45, 6, 7, 6, 765, 7, 65]\n"
     ]
    }
   ],
   "source": [
    "fun_1(1,2,34,5,45,6,7,6,765,7,65,{\"tom\",\"jerry\",1,99},[1,2,3,4,5,\"hasirama\"],(1,2,3,4,\"shikamaru\"))"
   ]
  },
  {
   "cell_type": "code",
   "execution_count": 4,
   "id": "10f72bbb-cd2f-4045-8b2b-0a8fadb18a99",
   "metadata": {},
   "outputs": [],
   "source": [
    "#  ans2\n",
    "#  (part2)\n",
    "def fun_2(**kwargs): # used **kwargs\n",
    "    n=()\n",
    "    for i in kwargs.keys():\n",
    "        if type(kwargs.get(i))==tuple:\n",
    "            n+=kwargs.get(i)\n",
    "    print(\"All the elements present in all tuples are:{tuple_elems}\".format(tuple_elems=n))"
   ]
  },
  {
   "cell_type": "code",
   "execution_count": 5,
   "id": "1525e17c-5b00-4633-b4ae-ff772fadbe50",
   "metadata": {},
   "outputs": [
    {
     "name": "stdout",
     "output_type": "stream",
     "text": [
      "All the elements present in all tuples are:(3, 4, 5, 7, 7, 88, 8, 'naruto', 'hinata', 'kakashi', 'Hatake', 2, 4, 5, 6, 6.7, 7, 766.6, 5, 5)\n"
     ]
    }
   ],
   "source": [
    "fun_2(a=\"sitanshu\",b=(3,4,5,7,7,88,8,\"naruto\",\"hinata\"),c=(\"kakashi\",\"Hatake\",2,4,5,6,6.7,7,766.6,5,5))"
   ]
  },
  {
   "cell_type": "code",
   "execution_count": 6,
   "id": "3a428a8c-1340-44a8-b6c0-2f4e300f6962",
   "metadata": {},
   "outputs": [],
   "source": [
    "#  Q3. What is an iterator in python? Name the method used to initialise the iterator object and the method\n",
    "#  used for iteration. Use these methods to print the first five elements of the given list [2, 4, 6, 8, 10, 12,\n",
    "#  14, 16, 18, 20].\n",
    "#  ans3. (part1 and 2)\n",
    "#        An iterator in python is an object which is basically used to iterate over iterable datatypes like\n",
    "#        list, tuple, dictionary, string. There are 2 iterator methods used dunring iteration which are iter()\n",
    "#        and next()"
   ]
  },
  {
   "cell_type": "code",
   "execution_count": 10,
   "id": "0ad7e25b-d6cc-4a90-85dc-1132ffca591d",
   "metadata": {},
   "outputs": [
    {
     "name": "stdout",
     "output_type": "stream",
     "text": [
      "2\n",
      "4\n",
      "6\n",
      "8\n",
      "10\n"
     ]
    }
   ],
   "source": [
    "#  ans3\n",
    "#  (part3)\n",
    "lst_2=[2, 4, 6, 8, 10, 12, 14, 16, 18, 20]\n",
    "it_1=iter(lst_2)\n",
    "for i in range(5):\n",
    "    print(next(it_1))"
   ]
  },
  {
   "cell_type": "code",
   "execution_count": 11,
   "id": "d1c5665a-a9c4-418f-a9bb-524d3a2e4d5e",
   "metadata": {},
   "outputs": [],
   "source": [
    "#  Q4. What is a generator function in python? Why yield keyword is used? Give an example of a generator\n",
    "#  function.\n",
    "#  ans4. (part1)\n",
    "#        The generator function in python is different from the rest of other normal functions as 1st of all it\n",
    "#        does'nt work by itself, after getting a value from the user, in addition it needs a loop(for loop).\n",
    "#        example of such a funtion is range(), and we already know that afer assigning any value in it, it won't\n",
    "#        give us an output unless it's used with for() loop. Another speciality of it is that instead of print()\n",
    "#        or return, to get output it uses yeild.\n",
    "#        (part2)\n",
    "#        The yield keyword is used in case of only the generator functions so that it can iterate over a sequence\n",
    "#        and the output does'nt get stored in the memory"
   ]
  },
  {
   "cell_type": "code",
   "execution_count": 2,
   "id": "f36254c0-a847-4263-9937-ba172ffc301f",
   "metadata": {},
   "outputs": [],
   "source": [
    "#  ans4.\n",
    "#  (part2)\n",
    "#  this program will give us a sequence in which every no. will be the product of the previous 2 elements\n",
    "def gen_fun1(n):\n",
    "    a,b=1,2  #  The sequence will start with 1 & 2\n",
    "    for i in range(n):\n",
    "        yield a\n",
    "        a,b=b,a*b"
   ]
  },
  {
   "cell_type": "code",
   "execution_count": 3,
   "id": "8d671dcb-81c4-4aa1-980f-2357d22888a5",
   "metadata": {},
   "outputs": [
    {
     "data": {
      "text/plain": [
       "<generator object gen_fun1 at 0x7f9eb04ba960>"
      ]
     },
     "execution_count": 3,
     "metadata": {},
     "output_type": "execute_result"
    }
   ],
   "source": [
    "gen_fun1(5)"
   ]
  },
  {
   "cell_type": "code",
   "execution_count": 6,
   "id": "9c3924dd-31b8-4429-a2fe-e435c0a52bad",
   "metadata": {},
   "outputs": [
    {
     "name": "stdout",
     "output_type": "stream",
     "text": [
      "1\n",
      "2\n",
      "2\n",
      "4\n",
      "8\n",
      "32\n",
      "256\n",
      "8192\n",
      "2097152\n",
      "17179869184\n",
      "36028797018963968\n",
      "618970019642690137449562112\n",
      "22300745198530623141535718272648361505980416\n",
      "13803492693581127574869511724554050904902217944340773110325048447598592\n",
      "307828173409331868845930000782371982852185463050511302093346042220669701339821957901673955116288403443801781174272\n"
     ]
    }
   ],
   "source": [
    "#  checking the above code\n",
    "for m in gen_fun1(15):\n",
    "    print(m)"
   ]
  },
  {
   "cell_type": "code",
   "execution_count": 22,
   "id": "aaeaf464-9581-4912-b104-63452d639e1c",
   "metadata": {},
   "outputs": [],
   "source": [
    "#  Q5. Create a generator function for prime numbers less than 1000. Use the next() method to print the\n",
    "#  first 20 prime numbers.\n",
    "#  ans5. (part1)\n",
    "def prm_1(n):\n",
    "    for m in range(2,n):\n",
    "        if m==2:\n",
    "            yield m\n",
    "        else:\n",
    "            for q in range(2,m):\n",
    "                    if m%q==0:\n",
    "                        break\n",
    "                    elif m%q!=0 and q==m-1:\n",
    "                        yield m\n",
    "                        "
   ]
  },
  {
   "cell_type": "code",
   "execution_count": 24,
   "id": "5d56902c-1fee-48ae-94ed-909e4c769bef",
   "metadata": {},
   "outputs": [
    {
     "name": "stdout",
     "output_type": "stream",
     "text": [
      "2\n",
      "3\n",
      "5\n",
      "7\n",
      "11\n",
      "13\n",
      "17\n",
      "19\n",
      "23\n",
      "29\n",
      "31\n",
      "37\n",
      "41\n",
      "43\n",
      "47\n",
      "53\n",
      "59\n",
      "61\n",
      "67\n",
      "71\n",
      "73\n",
      "79\n",
      "83\n",
      "89\n",
      "97\n",
      "101\n",
      "103\n",
      "107\n",
      "109\n",
      "113\n",
      "127\n",
      "131\n",
      "137\n",
      "139\n",
      "149\n",
      "151\n",
      "157\n",
      "163\n",
      "167\n",
      "173\n",
      "179\n",
      "181\n",
      "191\n",
      "193\n",
      "197\n",
      "199\n",
      "211\n",
      "223\n",
      "227\n",
      "229\n",
      "233\n",
      "239\n",
      "241\n",
      "251\n",
      "257\n",
      "263\n",
      "269\n",
      "271\n",
      "277\n",
      "281\n",
      "283\n",
      "293\n",
      "307\n",
      "311\n",
      "313\n",
      "317\n",
      "331\n",
      "337\n",
      "347\n",
      "349\n",
      "353\n",
      "359\n",
      "367\n",
      "373\n",
      "379\n",
      "383\n",
      "389\n",
      "397\n",
      "401\n",
      "409\n",
      "419\n",
      "421\n",
      "431\n",
      "433\n",
      "439\n",
      "443\n",
      "449\n",
      "457\n",
      "461\n",
      "463\n",
      "467\n",
      "479\n",
      "487\n",
      "491\n",
      "499\n",
      "503\n",
      "509\n",
      "521\n",
      "523\n",
      "541\n",
      "547\n",
      "557\n",
      "563\n",
      "569\n",
      "571\n",
      "577\n",
      "587\n",
      "593\n",
      "599\n",
      "601\n",
      "607\n",
      "613\n",
      "617\n",
      "619\n",
      "631\n",
      "641\n",
      "643\n",
      "647\n",
      "653\n",
      "659\n",
      "661\n",
      "673\n",
      "677\n",
      "683\n",
      "691\n",
      "701\n",
      "709\n",
      "719\n",
      "727\n",
      "733\n",
      "739\n",
      "743\n",
      "751\n",
      "757\n",
      "761\n",
      "769\n",
      "773\n",
      "787\n",
      "797\n",
      "809\n",
      "811\n",
      "821\n",
      "823\n",
      "827\n",
      "829\n",
      "839\n",
      "853\n",
      "857\n",
      "859\n",
      "863\n",
      "877\n",
      "881\n",
      "883\n",
      "887\n",
      "907\n",
      "911\n",
      "919\n",
      "929\n",
      "937\n",
      "941\n",
      "947\n",
      "953\n",
      "967\n",
      "971\n",
      "977\n",
      "983\n",
      "991\n",
      "997\n"
     ]
    }
   ],
   "source": [
    "#  checking the above output\n",
    "for y in prm_1(1000): #  we will be getting all the prime numbers which are less than 1000\n",
    "    print(y)"
   ]
  },
  {
   "cell_type": "code",
   "execution_count": 38,
   "id": "68f0ad2e-827c-48fd-9cdf-3352538090f8",
   "metadata": {},
   "outputs": [
    {
     "name": "stdout",
     "output_type": "stream",
     "text": [
      "2\n",
      "3\n",
      "5\n",
      "7\n",
      "11\n",
      "13\n",
      "17\n",
      "19\n"
     ]
    },
    {
     "ename": "StopIteration",
     "evalue": "",
     "output_type": "error",
     "traceback": [
      "\u001b[0;31m---------------------------------------------------------------------------\u001b[0m",
      "\u001b[0;31mStopIteration\u001b[0m                             Traceback (most recent call last)",
      "Cell \u001b[0;32mIn[38], line 5\u001b[0m\n\u001b[1;32m      3\u001b[0m it\u001b[38;5;241m=\u001b[39m\u001b[38;5;28miter\u001b[39m(prm_1(\u001b[38;5;241m20\u001b[39m))\u001b[38;5;66;03m#  Used the same function which i formed in the 1st part of this function\u001b[39;00m\n\u001b[1;32m      4\u001b[0m \u001b[38;5;28;01mfor\u001b[39;00m i \u001b[38;5;129;01min\u001b[39;00m \u001b[38;5;28mrange\u001b[39m(\u001b[38;5;241m1\u001b[39m,\u001b[38;5;241m21\u001b[39m):\n\u001b[0;32m----> 5\u001b[0m     \u001b[38;5;28mprint\u001b[39m(\u001b[38;5;28;43mnext\u001b[39;49m\u001b[43m(\u001b[49m\u001b[43mit\u001b[49m\u001b[43m)\u001b[49m)\n",
      "\u001b[0;31mStopIteration\u001b[0m: "
     ]
    }
   ],
   "source": [
    "#  ans5.\n",
    "#  (part2)\n",
    "it=iter(prm_1(20))#  Used the same function which i formed in the 1st part of this function\n",
    "for i in range(1,21):\n",
    "    print(next(it))"
   ]
  },
  {
   "cell_type": "code",
   "execution_count": null,
   "id": "3fdca184-c0e5-451b-98ee-f3da7954b7d6",
   "metadata": {},
   "outputs": [],
   "source": []
  }
 ],
 "metadata": {
  "kernelspec": {
   "display_name": "Python 3 (ipykernel)",
   "language": "python",
   "name": "python3"
  },
  "language_info": {
   "codemirror_mode": {
    "name": "ipython",
    "version": 3
   },
   "file_extension": ".py",
   "mimetype": "text/x-python",
   "name": "python",
   "nbconvert_exporter": "python",
   "pygments_lexer": "ipython3",
   "version": "3.10.8"
  }
 },
 "nbformat": 4,
 "nbformat_minor": 5
}
